{
 "cells": [
  {
   "cell_type": "markdown",
   "metadata": {},
   "source": [
    "Preprocessing Airbnb Data"
   ]
  },
  {
   "cell_type": "code",
   "execution_count": null,
   "metadata": {},
   "outputs": [],
   "source": [
    "import pandas as pd\n",
    "import numpy as np\n",
    "import matplotlib.pyplot as plt\n",
    "from matplotlib import style"
   ]
  },
  {
   "cell_type": "code",
   "execution_count": null,
   "metadata": {},
   "outputs": [],
   "source": [
    "Df_dataset = pd.read_csv(r'listings.csv')"
   ]
  },
  {
   "cell_type": "code",
   "execution_count": null,
   "metadata": {},
   "outputs": [],
   "source": [
    "Df_dataset"
   ]
  },
  {
   "cell_type": "code",
   "execution_count": null,
   "metadata": {},
   "outputs": [],
   "source": [
    "Df_dataset.head()"
   ]
  },
  {
   "cell_type": "code",
   "execution_count": null,
   "metadata": {},
   "outputs": [],
   "source": [
    "Df_dataset.tail()"
   ]
  },
  {
   "cell_type": "code",
   "execution_count": null,
   "metadata": {},
   "outputs": [],
   "source": [
    "Df_dataset.info()"
   ]
  },
  {
   "cell_type": "markdown",
   "metadata": {},
   "source": [
    "Pre process Price column"
   ]
  },
  {
   "cell_type": "code",
   "execution_count": null,
   "metadata": {},
   "outputs": [],
   "source": [
    "Df_dataset[\"price\"].describe()"
   ]
  },
  {
   "cell_type": "code",
   "execution_count": null,
   "metadata": {},
   "outputs": [],
   "source": [
    "Df_dataset['price'] = Df_dataset['price'].str.replace(r'[$]', '')\n",
    "Df_dataset['price'] = Df_dataset['price'].str.replace(r'[.00]', '')\n",
    "Df_dataset"
   ]
  },
  {
   "cell_type": "code",
   "execution_count": null,
   "metadata": {},
   "outputs": [],
   "source": [
    "Df_dataset[\"neighbourhood_cleansed\"].describe()"
   ]
  },
  {
   "cell_type": "code",
   "execution_count": null,
   "metadata": {},
   "outputs": [],
   "source": [
    "Df_dataset['price'] = Df_dataset['price'].replace('$', '')"
   ]
  },
  {
   "cell_type": "markdown",
   "metadata": {},
   "source": [
    "Drop unnecessary columns"
   ]
  },
  {
   "cell_type": "code",
   "execution_count": null,
   "metadata": {},
   "outputs": [],
   "source": [
    "Df_dataset.drop([\"id\",\"listing_url\",\"scrape_id\", \"last_scraped\", \"name\", \"summary\", \"space\"], axis=1, inplace=True)"
   ]
  },
  {
   "cell_type": "code",
   "execution_count": null,
   "metadata": {},
   "outputs": [],
   "source": [
    "Df_dataset.drop([\"description\", \"experiences_offered\",\"neighborhood_overview\",\"notes\",\"transit\",\"access\", \"interaction\",\"house_rules\"],axis=1,inplace=True)"
   ]
  },
  {
   "cell_type": "code",
   "execution_count": null,
   "metadata": {},
   "outputs": [],
   "source": [
    "Df_dataset.drop([\"thumbnail_url\",\"medium_url\", \"picture_url\",\"xl_picture_url\",\"host_url\", \"host_name\", \"host_since\", \"host_location\"],axis=1,inplace=True)"
   ]
  },
  {
   "cell_type": "code",
   "execution_count": null,
   "metadata": {},
   "outputs": [],
   "source": [
    "Df_dataset.drop([\"host_about\",\"host_response_time\",\"host_response_rate\", \"host_acceptance_rate\", \"host_is_superhost\",\"host_thumbnail_url\", \"host_picture_url\", \"host_neighbourhood\", \"host_listings_count\", \"host_total_listings_count\", \"host_verifications\", \"host_has_profile_pic\", \"host_identity_verified\", \"street\", \"neighbourhood\", \"host_identity_verified\", \"city\", \"state\", \"zipcode\", \"market\", \"smart_location\", \"country_code\", \"country\", \"is_location_exact\", \"property_type\"],axis=1,inplace=True )"
   ]
  },
  {
   "cell_type": "code",
   "execution_count": null,
   "metadata": {},
   "outputs": [],
   "source": [
    "Df_dataset.drop([\"accommodates\", \"bathrooms\", \"bedrooms\", \"beds\",\"bed_type\", \"amenities\",\"square_feet\", \"weekly_price\", \"monthly_price\", \"security_deposit\", \"cleaning_fee\", \"guests_included\", \"extra_people\", \"minimum_nights\", \"maximum_nights\", \"calendar_updated\", \"has_availability\", \"availability_30\", \"availability_60\", \"availability_90\", \"availability_365\", \"calendar_last_scraped\", \"first_review\",\"last_review\", \"review_scores_rating\", \"review_scores_accuracy\", \"review_scores_cleanliness\", \"review_scores_checkin\", \"review_scores_communication\",\"review_scores_location\", \"requires_license\", \"license\", \"jurisdiction_names\", \"instant_bookable\", \"cancellation_policy\", \"require_guest_profile_picture\", \"require_guest_phone_verification\",\"calculated_host_listings_count\"],axis=1,inplace=True)"
   ]
  },
  {
   "cell_type": "code",
   "execution_count": null,
   "metadata": {},
   "outputs": [],
   "source": [
    "Df_dataset.drop([\"neighbourhood_group_cleansed\", \"reviews_per_month\"], axis=1,inplace=True)"
   ]
  },
  {
   "cell_type": "code",
   "execution_count": null,
   "metadata": {},
   "outputs": [],
   "source": [
    "Df_dataset.info()"
   ]
  },
  {
   "cell_type": "markdown",
   "metadata": {},
   "source": [
    "#drop rows with null values"
   ]
  },
  {
   "cell_type": "code",
   "execution_count": null,
   "metadata": {},
   "outputs": [],
   "source": [
    "col_num=0\n",
    "TotalObjects =Df_dataset.shape[0]\n",
    "print (\"Column\\t\\t\\t\\t\\t Null Values%\")\n",
    "for x in Df_dataset:\n",
    " nullCount =Df_dataset[x].isnull().sum();\n",
    " nullPercent = nullCount*100 / (TotalObjects)\n",
    " if nullCount > 0 and nullPercent > 30 :\n",
    "  col_num=col_num+1\n",
    "  Df_dataset.drop(x, axis=1,inplace=True)\n",
    "  print(str(x)+\"\\t\\t\\t\\t\\t \"+str(nullPercent))\n",
    "print (\"A total of \"+str(col_num)+\" deleted !\")"
   ]
  },
  {
   "cell_type": "code",
   "execution_count": null,
   "metadata": {},
   "outputs": [],
   "source": [
    "Df_dataset[\"review_scores_value\"].fillna(0, inplace=True)"
   ]
  },
  {
   "cell_type": "code",
   "execution_count": null,
   "metadata": {},
   "outputs": [],
   "source": [
    "Df_dataset.isnull().sum()"
   ]
  },
  {
   "cell_type": "code",
   "execution_count": null,
   "metadata": {},
   "outputs": [],
   "source": [
    "#unique values\n",
    "pd.unique(Df_dataset[\"room_type\"].values) \n",
    "pd.unique(Df_dataset[\"neighbourhood_cleansed\"].values) \n",
    "pd.unique(Df_dataset[\"price\"].values)"
   ]
  },
  {
   "cell_type": "code",
   "execution_count": null,
   "metadata": {},
   "outputs": [],
   "source": [
    "#convert object to int\n",
    "Df_dataset[\"price\"] = pd.to_numeric(Df_dataset[\"price\"], errors='coerce').fillna(0, downcast='infer')"
   ]
  },
  {
   "cell_type": "code",
   "execution_count": null,
   "metadata": {},
   "outputs": [],
   "source": [
    "#Convert Categorical to numerical data\n",
    "## room type\n",
    "def getRoomTypeNo(str):\n",
    "  if str==\"Entire home/apt\":\n",
    "    return 1\n",
    "  elif str ==\"Private room\":\n",
    "    return 2\n",
    "  else:\n",
    "    return 3\n",
    "\n",
    "Df_dataset[\"room_type\"]= Df_dataset[\"room_type\"].apply(getRoomTypeNo)"
   ]
  },
  {
   "cell_type": "code",
   "execution_count": null,
   "metadata": {},
   "outputs": [],
   "source": [
    "##Neighbourhood\n",
    "def getNeighbourhood(str):\n",
    "  if str==\"Roslindale\":\n",
    "    return 1\n",
    "  elif str==\"Jamaica Plain\":\n",
    "    return 2\n",
    "  elif str==\"Mission Hill\":\n",
    "    return 3\n",
    "  elif str==\"Longwood Medical Area\":\n",
    "    return 4\n",
    "  elif str==\"Bay Village\":\n",
    "    return 5\n",
    "  elif str==\"Leather District\":\n",
    "    return 6\n",
    "  elif str==\"Chinatown\":\n",
    "    return 7\n",
    "  elif str==\"North End\":\n",
    "    return 8\n",
    "  elif str==\"Roxbury\":\n",
    "    return 9\n",
    "  elif str==\"South End\":\n",
    "    return 10\n",
    "  elif str==\"Back Bay\":\n",
    "    return 11\n",
    "  elif str==\"East Boston\":\n",
    "    return 12\n",
    "  elif str==\"Charlestown\":\n",
    "    return 13\n",
    "  elif str==\"West End\":\n",
    "    return 14\n",
    "  elif str==\"Beacon Hill\":\n",
    "    return 15\n",
    "  elif str==\"Downtown\":\n",
    "    return 16\n",
    "  elif str==\"Fenway\":\n",
    "    return 17\n",
    "  elif str==\"Brighton\":\n",
    "    return 18\n",
    "  elif str==\"West Roxbury\":\n",
    "    return 19\n",
    "  elif str==\"Hyde Park\":\n",
    "    return 20\n",
    "  elif str==\"Mattapan\":\n",
    "    return 21\n",
    "  elif str==\"Dorchester\":\n",
    "    return 22\n",
    "  elif str==\"South Boston Waterfront\":\n",
    "    return 23\n",
    "  elif str==\"South Boston\":\n",
    "    return 24\n",
    "  else: #Allston\n",
    "    return 25\n",
    "\n",
    "\n",
    "Df_dataset[\"Neighbourhood\"]= Df_dataset[\"neighbourhood_cleansed\"].apply(getNeighbourhood)"
   ]
  },
  {
   "cell_type": "code",
   "execution_count": null,
   "metadata": {},
   "outputs": [],
   "source": [
    "Df_dataset.drop([\"neighbourhood_cleansed\"], axis=1, inplace=True)"
   ]
  },
  {
   "cell_type": "code",
   "execution_count": null,
   "metadata": {},
   "outputs": [],
   "source": [
    "#Get to a csv file\n",
    "Df_dataset.to_csv('cleaned_dataset.csv',index=False) "
   ]
  },
  {
   "cell_type": "code",
   "execution_count": null,
   "metadata": {},
   "outputs": [],
   "source": [
    "#visualize\n",
    "\n",
    "home = (Df_dataset['room_type'] == 1).sum() \n",
    "\n",
    "pvtRoom = (Df_dataset['room_type'] == 2).sum()\n",
    "shrdRoom = (Df_dataset['room_type'] == 3).sum()\n",
    "print(home)\n",
    "print(pvtRoom)\n",
    "print(shrdRoom)\n",
    "p = [home, pvtRoom, shrdRoom]\n",
    "plt.pie(p, #giving array\n",
    "labels = ['Entire Home/Apartment', 'Private Room', 'Shared Room'],#Correspndingly giving labels\n",
    "colors = ['green', 'yellow','red'], # Corresponding colors\n",
    "startangle=0) #How much the gap should me there between the pie) #what start angle should be given\n",
    "plt.axis('equal') \n",
    "plt.show()"
   ]
  }
 ],
 "metadata": {
  "kernelspec": {
   "display_name": "Python 3.9.7 64-bit",
   "language": "python",
   "name": "python3"
  },
  "language_info": {
   "name": "python",
   "version": "3.9.7"
  },
  "orig_nbformat": 4,
  "vscode": {
   "interpreter": {
    "hash": "5addf786bcd861d1ce5006f23111f8cbb206731e5b61b0a5632ba9e0252558a8"
   }
  }
 },
 "nbformat": 4,
 "nbformat_minor": 2
}
